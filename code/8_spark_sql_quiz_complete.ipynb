{
 "cells": [
  {
   "cell_type": "markdown",
   "metadata": {},
   "source": [
    "# Data Wrangling with Spark SQL Quiz\n",
    "\n",
    "This quiz uses the same dataset and most of the same questions from the earlier \"Quiz - Data Wrangling with Data Frames Jupyter Notebook.\" For this quiz, however, use Spark SQL instead of Spark Data Frames."
   ]
  },
  {
   "cell_type": "code",
   "execution_count": 6,
   "metadata": {},
   "outputs": [],
   "source": [
    "from pyspark.sql import SparkSession\n",
    "\n",
    "# TODOS: \n",
    "# 1) import any other libraries you might need\n",
    "# 2) instantiate a Spark session \n",
    "spark = SparkSession \\\n",
    "    .builder \\\n",
    "    .appName(\"Wrangling Data\") \\\n",
    "    .getOrCreate()\n",
    "\n",
    "# 3) read in the data set located at the path \"data/sparkify_log_small.json\"\n",
    "path = \"data/sparkify_log_small.json\"\n",
    "user_log = spark.read.json(path)\n",
    "\n",
    "# 4) create a view to use with your SQL queries\n",
    "user_log.createOrReplaceTempView(\"user_log_table\")\n",
    "\n",
    "# 5) write code to answer the quiz questions "
   ]
  },
  {
   "cell_type": "markdown",
   "metadata": {},
   "source": [
    "# Question 1\n",
    "\n",
    "Which page did user id \"\"(empty string) NOT visit?"
   ]
  },
  {
   "cell_type": "code",
   "execution_count": 10,
   "metadata": {},
   "outputs": [
    {
     "name": "stdout",
     "output_type": "stream",
     "text": [
      "+-----+--------+\n",
      "| page|count(1)|\n",
      "+-----+--------+\n",
      "| Home|     187|\n",
      "|About|      15|\n",
      "|Login|     126|\n",
      "| Help|       8|\n",
      "+-----+--------+\n",
      "\n"
     ]
    }
   ],
   "source": [
    "# Select pages visited by user \"\" and include count for fun\n",
    "spark.sql('''\n",
    "    SELECT page, count(*)\n",
    "    FROM user_log_table\n",
    "    WHERE userId == \"\"\n",
    "    GROUP BY page\n",
    "''').show()"
   ]
  },
  {
   "cell_type": "markdown",
   "metadata": {},
   "source": [
    "# Question 2 - Reflect\n",
    "\n",
    "Why might you prefer to use SQL over data frames? Why might you prefer data frames over SQL?"
   ]
  },
  {
   "cell_type": "markdown",
   "metadata": {},
   "source": [
    "# Question 3\n",
    "\n",
    "How many female users do we have in the data set?"
   ]
  },
  {
   "cell_type": "code",
   "execution_count": 12,
   "metadata": {},
   "outputs": [
    {
     "data": {
      "text/plain": [
       "462"
      ]
     },
     "execution_count": 12,
     "metadata": {},
     "output_type": "execute_result"
    }
   ],
   "source": [
    "# Select unique user IDs where gender is female\n",
    "spark.sql('''\n",
    "    SELECT DISTINCT userId\n",
    "    FROM user_log_table\n",
    "    WHERE gender == \"F\"\n",
    "''').count()"
   ]
  },
  {
   "cell_type": "markdown",
   "metadata": {},
   "source": [
    "# Question 4\n",
    "\n",
    "How many songs were played from the most played artist?"
   ]
  },
  {
   "cell_type": "code",
   "execution_count": 13,
   "metadata": {},
   "outputs": [
    {
     "name": "stdout",
     "output_type": "stream",
     "text": [
      "+--------------------+----+\n",
      "|              artist|   c|\n",
      "+--------------------+----+\n",
      "|                null|1653|\n",
      "|            Coldplay|  83|\n",
      "|       Kings Of Leon|  69|\n",
      "|Florence + The Ma...|  52|\n",
      "|            BjÃÂ¶rk|  46|\n",
      "|       Dwight Yoakam|  45|\n",
      "|       Justin Bieber|  43|\n",
      "|      The Black Keys|  40|\n",
      "|         OneRepublic|  37|\n",
      "|                Muse|  36|\n",
      "|        Jack Johnson|  36|\n",
      "|           Radiohead|  31|\n",
      "|        Taylor Swift|  29|\n",
      "|Barry Tuckwell/Ac...|  28|\n",
      "|          Lily Allen|  28|\n",
      "|               Train|  28|\n",
      "|           Daft Punk|  27|\n",
      "|           Metallica|  27|\n",
      "|          Nickelback|  27|\n",
      "|          Kanye West|  26|\n",
      "+--------------------+----+\n",
      "only showing top 20 rows\n",
      "\n"
     ]
    }
   ],
   "source": [
    "# Aggregate songs by artist and sort in descending order to show the most popular first\n",
    "spark.sql('''\n",
    "    SELECT artist, count(*) as c\n",
    "    FROM user_log_table\n",
    "    GROUP BY artist\n",
    "    ORDER BY c DESC\n",
    "''').show()"
   ]
  },
  {
   "cell_type": "markdown",
   "metadata": {},
   "source": [
    "# Question 5 (challenge)\n",
    "\n",
    "How many songs do users listen to on average between visiting our home page? Please round your answer to the closest integer."
   ]
  },
  {
   "cell_type": "code",
   "execution_count": null,
   "metadata": {},
   "outputs": [],
   "source": [
    "# TODO: write your code to answer question 5"
   ]
  }
 ],
 "metadata": {
  "kernelspec": {
   "display_name": "Python 3",
   "language": "python",
   "name": "python3"
  },
  "language_info": {
   "codemirror_mode": {
    "name": "ipython",
    "version": 3
   },
   "file_extension": ".py",
   "mimetype": "text/x-python",
   "name": "python",
   "nbconvert_exporter": "python",
   "pygments_lexer": "ipython3",
   "version": "3.6.3"
  }
 },
 "nbformat": 4,
 "nbformat_minor": 2
}
